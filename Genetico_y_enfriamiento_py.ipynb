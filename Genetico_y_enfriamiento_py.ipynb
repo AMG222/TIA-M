{
  "nbformat": 4,
  "nbformat_minor": 0,
  "metadata": {
    "colab": {
      "name": "Genético y enfriamiento.py",
      "provenance": [],
      "collapsed_sections": []
    },
    "kernelspec": {
      "name": "python3",
      "display_name": "Python 3"
    },
    "language_info": {
      "name": "python"
    }
  },
  "cells": [
    {
      "cell_type": "markdown",
      "metadata": {
        "id": "bRev1JswYu5t"
      },
      "source": [
        "ALGORITMO GENÉTICO"
      ]
    },
    {
      "cell_type": "code",
      "metadata": {
        "id": "41PrNScwVHtF"
      },
      "source": [
        "\"\"\"\n",
        "---------PROBLEMA----------\n",
        "Se rellenan los blancos con 0, se le (fila-columna/fila-columna/fila-columna...)\n",
        "\n",
        "Solucion: debe tener todas 12 capas\n",
        "\n",
        "R1. las capas C, F, J no pueden estar en los extremos\n",
        "\n",
        "R2. la union G-K y la E-C son de utilidad -10\n",
        "\n",
        "R3. La triple union F-L-G que deberia tener 54+18=72 es en realidad 88 y la union J-C-B que deberia tener 22+31=55 es en realidad de 25\n",
        "\n",
        "--------CODIFICACIÓN--------\n",
        "\n",
        "1a opción: (A,B,C,D,E,F,G,H,I,J,K,L) -numeros-> (0,1,2,3,4,5,6,7,8,9,10,11)\n",
        "-ventajas: cruce sencillo\n",
        "-desventajas: no se tienen tan en cuenta las parejas\n",
        "\n",
        "2a opción: (A-B,B-C,C-D,D-E,E-F,F-G,G-H,H-I,I-J,J-K,K-L) -numeros-> (0-1,1-2,2-3,3-4,4-5,5-6,6-7,7-8,8-9,9-10,10-11)\n",
        "-ventajas: se tienen tan en cuenta las parejas\n",
        "-desventajas: cruce más complicado\n",
        "\n",
        "--------FITNESS------------\n",
        "\n",
        "sumar los valores de la tabla si se cumple un triple de R3 sumarlo y seguir con la tabla sin sumar ese triple de la tabla\n",
        "\n",
        "-----------CRUCE------------\n",
        "1a opción: cada letra para una posición se escoge con 50% del padre o la madre\n",
        "2a opción: cada pareja se escoge con 50% del padre o d la madre, pero con 6 elementos luego rellenar los huecos de las parejas \n",
        "\n",
        "----------MUTACIÓN----------\n",
        "1a opción: Variar con una probabilidad una letra\n",
        "2a opción: Variar con una probabilidad una letra por tanto cambian 2 parejas\n",
        "\n",
        "tras esto se comprueba si se ha incumplido R1\n",
        "\"\"\"\n",
        "import random\n",
        "from heapq import nlargest\n",
        "import math\n",
        "import matplotlib.pyplot as plt\n",
        "matrix = [\n",
        "    [0, 10, 15, 25, 32, 25, 21, 21, 15, 22, 12, 54], \n",
        "    [41, 0, 57, 24, 52, 2, 66, 55, 61, 15, 6, 7],\n",
        "    [21, 31, 0, 21, 21, 44, 21, 22, 22, 61, 47, 61],\n",
        "    [66, 22, 15, 0, 47, 21, 41, 15, 21, 22, 32, 34],\n",
        "    [21, 44, -10, 47, 0, 32, 26, 61, 55, 34, 18, 12],\n",
        "    [22, 18, 22, 23, 41, 0, 21, 22, 44, 55, 54, 54],\n",
        "    [15, 25, 34, 21, 26, 27, 0, 34, 25, 41, 7, 22],\n",
        "    [61, 34, 12, 54, 21, 23, 15, 0, 21, 21, 55, 55],\n",
        "    [22, 54, 54, 65, 3, 25, 61, 77, 0, 47, 22, 22],\n",
        "    [34, 7, 22, 23, 54, 42, 22, 54, 21, 0, 12, 15],\n",
        "    [26, 61, 55, 22, 18, 18, 22, 18, 34, 21, 0, 12],\n",
        "    [22, 18, 25, 34, 21, 22, 18, 61, 55, 2, 22, 0]\n",
        "]"
      ],
      "execution_count": null,
      "outputs": []
    },
    {
      "cell_type": "code",
      "metadata": {
        "id": "8X8nthNwVNsA"
      },
      "source": [
        "def f(I):\n",
        "    if I[0] ==2 or I[0] ==5 or I[0] ==9 or I[size-1] ==2 or I[size-1] ==5 or I[size-1] ==9:\n",
        "        return 0\n",
        "    res = 0\n",
        "    for i in range(0,size-1):\n",
        "        if i < size-2 and I[i] == 5 and I[i+1] == 11 and I[i+2] == 6:\n",
        "            res += 88\n",
        "            i += 2\n",
        "        elif i < size-2 and I[i] == 9 and I[i+1] == 2 and I[i+2] == 1:\n",
        "            res += 25\n",
        "            i += 2\n",
        "        else:\n",
        "            res += matrix[I[i]][I[i+1]]\n",
        "    return res\n",
        "def genPopulation(initP):\n",
        "    aux = []\n",
        "    for i in range(0,size):\n",
        "      aux.append(random.randint(0,11))\n",
        "    res = []\n",
        "    for i in range(0,initP):\n",
        "        res.append(random.sample(aux, size))\n",
        "    return res\n",
        "\n",
        "def selection(P, selectP):\n",
        "    res=[]\n",
        "    random.sample(P, len(P))\n",
        "    for i in range(0,selectP):\n",
        "        res.append(P[i])\n",
        "    return res\n",
        "\n",
        "def cross(S):\n",
        "    sizeS = len(S)\n",
        "    res = []\n",
        "    for i in range(0,sizeS):\n",
        "        if i < (sizeS - 1):\n",
        "            res.append(crossI(S[i],S[i+1]))\n",
        "    return res\n",
        "\n",
        "def crossI(male, female):\n",
        "    res=[]\n",
        "    for i in range(0,size):\n",
        "        x = random.uniform(0, 1)\n",
        "        if x < 0.5:\n",
        "            res.append(male[i])\n",
        "        else:\n",
        "            res.append(female[i])\n",
        "    return res\n",
        "\n",
        "def mutation(q, prob):\n",
        "    aux = []\n",
        "    for i in range(0,12):\n",
        "      aux.append(i)\n",
        "    size_q=len(q)\n",
        "    for i in range(0,size_q):\n",
        "        for j in range(0,size):\n",
        "            x = random.uniform(0, 1)\n",
        "            if x < prob:\n",
        "                q[i][j] = aux[random.randint(0,11)]\n",
        "    return q\n",
        "\n",
        "def replace(P,S,Q,replacN):\n",
        "    lista = P+S+Q\n",
        "    leng_l = len(lista)\n",
        "    res = []\n",
        "    aux = nlargest(replacN, enumerate([f(element) for element in lista]), key=lambda x: x[1])\n",
        "    repes=0\n",
        "    for i in aux:\n",
        "      res.append(lista[i[0]])\n",
        "    return res\n",
        "\n",
        "def converge(P, maximo):\n",
        "    x = max([f(element) for element in P])\n",
        "    return maximo < x\n",
        "def convert(x):\n",
        "  sample=[]\n",
        "  for i in x:\n",
        "    sample.append(x[i])\n",
        "  for i in range(0,len(sample)):\n",
        "    if sample[i]==0:\n",
        "      sample[i] = 'A'\n",
        "    elif sample[i]==1:\n",
        "      sample[i] = 'B'\n",
        "    elif sample[i]==2:\n",
        "      sample[i] = 'C'\n",
        "    elif sample[i]==3:\n",
        "      sample[i] = 'D'\n",
        "    elif sample[i]==4:\n",
        "      sample[i] = 'E'\n",
        "    elif sample[i]==5:\n",
        "      sample[i] = 'F'\n",
        "    elif sample[i]==6:\n",
        "      sample[i] = 'G'\n",
        "    elif sample[i]==7:\n",
        "      sample[i] = 'H'\n",
        "    elif sample[i]==8:\n",
        "      sample[i] = 'I'\n",
        "    elif sample[i]==9:\n",
        "      sample[i] = 'J'\n",
        "    elif sample[i]==10:\n",
        "      sample[i] = 'K'\n",
        "    else:\n",
        "      sample[i] = 'L'\n",
        "  return sample"
      ],
      "execution_count": null,
      "outputs": []
    },
    {
      "cell_type": "code",
      "metadata": {
        "id": "_OrA43mdVaWA"
      },
      "source": [
        "limit=1000         #Límite de generaciones\n",
        "initP=200          #Población inicial\n",
        "selectP=100        #Población a seleccionar para cruzar\n",
        "probM=0.2          #Probabilidad de mutación sobre todos los alelos\n",
        "replacN=200        #Población que sobrevive a la siguiente generación\n",
        "maximo=9999999     #Valor a buscar como mejor solución\n",
        "size = 12          #tamaño de la solución"
      ],
      "execution_count": null,
      "outputs": []
    },
    {
      "cell_type": "code",
      "metadata": {
        "colab": {
          "base_uri": "https://localhost:8080/"
        },
        "id": "t-Z0_WczVR54",
        "outputId": "9c49d968-1a57-45d8-e9c6-925156d971be"
      },
      "source": [
        "import time\n",
        "begin = time.time()\n",
        "t=0\n",
        "end=False\n",
        "P = genPopulation(initP)\n",
        "aux = nlargest(len(P), enumerate([f(element) for element in P]), key=lambda x: x[1])\n",
        "averange_t = [aux[int(replacN/2)][1]]\n",
        "while not end:\n",
        "    S = selection(P,selectP)\n",
        "    q = cross(S)\n",
        "    Q = mutation(q, probM)\n",
        "    P = replace(P,S,Q,replacN)\n",
        "    aux = nlargest(len(P), enumerate([f(element) for element in P]), key=lambda x: x[1])\n",
        "    averange_t.append(aux[int(replacN/2)][1])\n",
        "    t+=1\n",
        "    if (t % 1000 == 0):\n",
        "      print(\"*\")\n",
        "    end = converge(P, maximo) or (t > limit)\n",
        "print(\"number of generations = \", t)\n",
        "aux = nlargest(len(P), enumerate([f(element) for element in P]), key=lambda x: x[1])\n",
        "res = []\n",
        "for i in aux:\n",
        "    res.append(i[1])\n",
        "print(\"------ The duration is\", time.time()-begin, \"---------\")\n",
        "print(\"fitness values of the last population: \", res)\n",
        "best = P[aux[res.index(max(res))][0]]\n",
        "median = averange_t[len(averange_t)-1]\n",
        "print(\"best single of the last population: \", convert(best), \"with fitness value of \", max(res))\n",
        "print(\"median value of the last population: \", median)"
      ],
      "execution_count": null,
      "outputs": [
        {
          "output_type": "stream",
          "name": "stdout",
          "text": [
            "*\n",
            "*\n",
            "*\n",
            "*\n",
            "*\n",
            "*\n",
            "*\n",
            "*\n",
            "*\n",
            "*\n",
            "number of generations =  10001\n",
            "------ The duration is 86.5899829864502 ---------\n",
            "fitness values of the last population:  [692, 692, 692, 692, 692, 692, 692, 692, 692, 692, 692, 692, 692, 692, 692, 692, 692, 692, 692, 692, 692, 692, 692, 692, 692, 692, 692, 692, 692, 692, 692, 692, 692, 692, 692, 692, 692, 692, 692, 692, 692, 692, 692, 692, 692, 692, 692, 692, 692, 692, 692, 692, 692, 692, 692, 692, 692, 692, 692, 692, 692, 692, 692, 692, 692, 692, 692, 692, 692, 692, 692, 692, 692, 692, 692, 692, 692, 692, 692, 692, 692, 692, 692, 692, 692, 692, 692, 692, 692, 692, 692, 692, 692, 692, 692, 692, 692, 692, 692, 692, 692, 692, 692, 692, 692, 692, 692, 692, 692, 692, 692, 692, 692, 692, 692, 692, 692, 692, 692, 692, 692, 692, 692, 692, 692, 692, 692, 692, 692, 692, 692, 692, 692, 692, 692, 692, 692, 692, 692, 692, 692, 692, 692, 692, 692, 692, 692, 692, 692, 692, 692, 692, 692, 692, 692, 692, 692, 692, 692, 692, 692, 692, 692, 692, 692, 692, 692, 692, 692, 692, 692, 692, 692, 692, 692, 692, 692, 692, 692, 692, 692, 692, 692, 692, 692, 692, 692, 692, 692, 692, 692, 692, 692, 692, 692, 692, 692, 692, 692, 692]\n",
            "best single of the last population:  ['I', 'B', 'H', 'I', 'H', 'K', 'H', 'H', 'I', 'H', 'H', 'I'] with fitness value of  692\n",
            "median value of the last population:  692\n"
          ]
        }
      ]
    },
    {
      "cell_type": "code",
      "metadata": {
        "colab": {
          "base_uri": "https://localhost:8080/",
          "height": 296
        },
        "id": "g9hqGYh0ZtBt",
        "outputId": "4e08b160-46e4-430e-f195-fdfec9e05227"
      },
      "source": [
        "plt.plot(averange_t)\n",
        "plt.ylabel('fitness value')\n",
        "plt.xlabel('generations')"
      ],
      "execution_count": null,
      "outputs": [
        {
          "output_type": "execute_result",
          "data": {
            "text/plain": [
              "Text(0.5, 0, 'generations')"
            ]
          },
          "metadata": {},
          "execution_count": 21
        },
        {
          "output_type": "display_data",
          "data": {
            "image/png": "[encoded data removed]",
            "text/plain": [
              "<Figure size 432x288 with 1 Axes>"
            ]
          },
          "metadata": {
            "needs_background": "light"
          }
        }
      ]
    },
    {
      "cell_type": "markdown",
      "metadata": {
        "id": "jhE7Ek_jYqvU"
      },
      "source": [
        "ENFRIAMIENTO SIMULADO"
      ]
    },
    {
      "cell_type": "code",
      "metadata": {
        "id": "V4kXOTQniti_"
      },
      "source": [
        "def generateNeig(Sa, nVecinos):\n",
        "    res=[]\n",
        "    #generacion de individuos aleatorios\n",
        "    aux = []\n",
        "    for i in range(0,size):\n",
        "      aux.append(random.randint(0,11))\n",
        "    for i in range(0, nVecinos):\n",
        "      res.append(random.sample(aux, size))\n",
        "    #generacion de vecinos a 1 cambio\n",
        "    \"\"\"x=0\n",
        "    aux=[]\n",
        "    pi=int(nVecinos/144)\n",
        "    pd=int((nVecinos-pi*144)/12)\n",
        "    pj=nVecinos-pi*144-pd*12\n",
        "    print(pj)\n",
        "    while x<pi:\n",
        "      for j in range(0,12):\n",
        "        for i in range(0,12):\n",
        "          aux=Sa\n",
        "          aux[j] = i\n",
        "          res.append(aux)\n",
        "      x+=1\n",
        "    for j in range(0,pd):\n",
        "      for i in range(0,12):\n",
        "          aux=Sa\n",
        "          aux[j] = i\n",
        "          res.append(aux)\n",
        "    for i in range(0,pj):\n",
        "      aux=Sa\n",
        "      aux[pd+1] = i\n",
        "      res.append(aux)\"\"\"\n",
        "    return res\n",
        "\n",
        "def newBest(Sa, Sn, prob):\n",
        "  x = random.uniform(0, 1)\n",
        "  if x <= prob:\n",
        "    return Sn\n",
        "  else:\n",
        "    return Sa\n",
        "\n",
        "def alfa(T, k):\n",
        "  return T/(1+k*T)\n",
        "def alfa1(T, k):\n",
        "  return k*T"
      ],
      "execution_count": null,
      "outputs": []
    },
    {
      "cell_type": "code",
      "metadata": {
        "id": "ybpxWpjmjLxO"
      },
      "source": [
        "T = 1000          #Temperatura inicial\n",
        "nVecinos=3000000     #Número de vecinos a generar\n",
        "maximo = 800000   #Valor máximo a buscar\n",
        "k = 0.002         #k para la función T=T/(1+k*T)\n",
        "#k=0.85           #k para la función T=k*T\n",
        "size = 12      #Tamaño de la solución"
      ],
      "execution_count": null,
      "outputs": []
    },
    {
      "cell_type": "code",
      "metadata": {
        "colab": {
          "base_uri": "https://localhost:8080/",
          "height": 367
        },
        "id": "_Czuq4RP_K8a",
        "outputId": "df81ac4a-00ad-4c5f-af84-1331057bfb1a"
      },
      "source": [
        "import time\n",
        "begin = time.time()\n",
        "Sa = []\n",
        "for i in range(0,size):\n",
        "  Sa.append(random.randint(0,11))\n",
        "#Sa=best\n",
        "Sm = Sa\n",
        "I = 0\n",
        "fm = f(Sa)\n",
        "neighbours = generateNeig(Sa, nVecinos)\n",
        "mod_t=[]\n",
        "t_val =[]\n",
        "while I < nVecinos and fm < maximo:\n",
        "  Sn = neighbours[I]\n",
        "  I+=1\n",
        "  fn = f(Sn)\n",
        "  fa = f(Sa)\n",
        "  deltaf = fn - fa\n",
        "  mod_t.append(fm)\n",
        "  if deltaf > 0:\n",
        "    Sa = Sn\n",
        "    if fn > f(Sm):\n",
        "      Sm = Sn\n",
        "      fm = fn\n",
        "  else:\n",
        "    if T!=0:\n",
        "      Sa = newBest(Sa, Sn, math.exp(deltaf/T))\n",
        "    T = alfa(T, k)\n",
        "    #T = alfa1(T, k)\n",
        "    t_val.append(T)\n",
        "print(\"------ The duration is\", time.time()-begin, \"---------\")\n",
        "print(\"Solucion final:\", convert(Sm), \" con valor\", fm)\n",
        "print(len(mod_t))\n",
        "print(\"Mediana: \", mod_t[len(mod_t)-1])\n",
        "plt.plot(mod_t)\n",
        "plt.ylabel('fitness value')\n",
        "plt.xlabel('interations')"
      ],
      "execution_count": null,
      "outputs": [
        {
          "output_type": "stream",
          "name": "stdout",
          "text": [
            "------ The duration is 0.2434096336364746 ---------\n",
            "Solucion final: ['C', 'B', 'A', 'G', 'F', 'G', 'I', 'A', 'G', 'H', 'K', 'B']  con valor 544\n",
            "10000\n",
            "Mediana:  544\n"
          ]
        },
        {
          "output_type": "execute_result",
          "data": {
            "text/plain": [
              "Text(0.5, 0, 'interations')"
            ]
          },
          "metadata": {},
          "execution_count": 31
        },
        {
          "output_type": "display_data",
          "data": {
            "image/png": "[encoded data removed]",
            "text/plain": [
              "<Figure size 432x288 with 1 Axes>"
            ]
          },
          "metadata": {
            "needs_background": "light"
          }
        }
      ]
    },
    {
      "cell_type": "code",
      "metadata": {
        "colab": {
          "base_uri": "https://localhost:8080/",
          "height": 296
        },
        "id": "YihmL4_ty9qU",
        "outputId": "7493db44-e5aa-4d3c-f05d-331787eb2932"
      },
      "source": [
        "plt.plot(t_val)\n",
        "plt.ylabel('t value')\n",
        "plt.xlabel('interations')"
      ],
      "execution_count": null,
      "outputs": [
        {
          "output_type": "execute_result",
          "data": {
            "text/plain": [
              "Text(0.5, 0, 'interations')"
            ]
          },
          "metadata": {},
          "execution_count": 10
        },
        {
          "output_type": "display_data",
          "data": {
            "image/png": "[encoded data removed]",
            "text/plain": [
              "<Figure size 432x288 with 1 Axes>"
            ]
          },
          "metadata": {
            "needs_background": "light"
          }
        }
      ]
    },
    {
      "cell_type": "markdown",
      "metadata": {
        "id": "W3j18ZtgFmjl"
      },
      "source": [
        "HARDCORE!!!"
      ]
    },
    {
      "cell_type": "code",
      "metadata": {
        "id": "EsJbIqUSFicI"
      },
      "source": [
        "size = 12\n",
        "def f(I):\n",
        "    if I[0] ==2 or I[0] ==5 or I[0] ==9 or I[size-1] ==2 or I[size-1] ==5 or I[size-1] ==9:\n",
        "        return 0\n",
        "    res = 0\n",
        "    for i in range(0,size):\n",
        "        if i < size-2 and I[i] == 5 and I[i+1] == 11 and I[i+2] == 6:\n",
        "            res += 88\n",
        "            i += 2\n",
        "        elif i < size-2 and I[i] == 9 and I[i+1] == 2 and I[i+2] == 1:\n",
        "            res += 25\n",
        "            i += 2\n",
        "        else:\n",
        "            res += matrix[I[i]][I[i+1]]\n",
        "    return res\n",
        "def genPopulation(initP):\n",
        "    aux = []\n",
        "    for i in range(0,size):\n",
        "      aux.append(i)\n",
        "    res = []\n",
        "    for i in range(0,initP):\n",
        "        res.append(random.sample(aux, size))\n",
        "    return res\n",
        "def crossI(male, female):\n",
        "    res=[]\n",
        "    for i in range(0,size):\n",
        "        x = random.uniform(0, 1)\n",
        "        if x < 0.5:\n",
        "            res.append(male[i])\n",
        "        else:\n",
        "            res.append(female[i])\n",
        "    return res\n",
        "def mutation(q, prob):\n",
        "    aux = []\n",
        "    for i in range(0,size):\n",
        "      aux.append(i)\n",
        "    size_q=len(q)\n",
        "    for i in range(0,size_q):\n",
        "        for j in range(0,size):\n",
        "            x = random.uniform(0, 1)\n",
        "            if x < prob:\n",
        "                q[i][j] = aux[random.randint(0,11)]\n",
        "    return q"
      ],
      "execution_count": null,
      "outputs": []
    },
    {
      "cell_type": "code",
      "metadata": {
        "colab": {
          "base_uri": "https://localhost:8080/"
        },
        "id": "AkcAWEqbF1Qs",
        "outputId": "0568cb40-2dfa-479c-c3d9-3594063afd80"
      },
      "source": [
        "res=0\n",
        "for i in matrix:\n",
        "  aux = 0\n",
        "  for j in i:\n",
        "    aux+= j\n",
        "  res+=aux/12\n",
        "print(res/12)"
      ],
      "execution_count": null,
      "outputs": [
        {
          "output_type": "stream",
          "name": "stdout",
          "text": [
            "28.305555555555557\n"
          ]
        }
      ]
    }
  ]
}